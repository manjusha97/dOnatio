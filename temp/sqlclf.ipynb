{
 "cells": [
  {
   "cell_type": "code",
   "execution_count": 360,
   "metadata": {},
   "outputs": [],
   "source": [
    "# import data from sql and classify it\n",
    "\n",
    "# import sql module\n",
    "import mysql.connector\n",
    "\n",
    "# create connection with the database\n",
    "mydb = mysql.connector.connect(\n",
    "    host= \"localhost\",\n",
    "    user=\"root\",\n",
    "    passwd=\"\",\n",
    "    database=\"donatio\"\n",
    ")"
   ]
  },
  {
   "cell_type": "code",
   "execution_count": 361,
   "metadata": {},
   "outputs": [
    {
     "name": "stdout",
     "output_type": "stream",
     "text": [
      "Total number of features :  202\n",
      "Length of training dataset:  161\n",
      "Length of testing dataset:  41\n"
     ]
    }
   ],
   "source": [
    "# get a cursor for the database to execute all the queries.\n",
    "\n",
    "# This cursor will fetch the entire dataset from the database donatio\n",
    "cursor = mydb.cursor()\n",
    "\n",
    "# Execute the query to fetch data\n",
    "cursor.execute(\"select donorQuant, organizationQuant, dist, label from data\")\n",
    "\n",
    "# Features will contain list of [donorQuant, orgQuant, dist]\n",
    "features= []\n",
    "# Label will contain the matching\n",
    "label = []\n",
    "\n",
    "# Assign the second, third and fourth column values to features as a list\n",
    "# and the fifth column to label. Note that indexing starts from 0\n",
    "for i in cursor:\n",
    "    features.append([i[0],i[1], i[2]])\n",
    "    label.append(i[3])\n",
    "\n",
    "# Prints the values of Features and Labels\n",
    "print('Total number of features : ', len(features))\n",
    "\n",
    "# Split dataset into training and testing\n",
    "# Using train_test_split\n",
    "from sklearn.model_selection import train_test_split\n",
    "\n",
    "# takes features,labels and ratio of training data and testing data as parameters and\n",
    "# returns two sets of features and lebels for training and testing\n",
    "# trainFeatures: contains all the attributes for training part\n",
    "# testFeatures: contains all the attributes for testing part\n",
    "# trainLabel: contains the classes of predictions whether there is a mtch or not\n",
    "# testLabel: contains label for testing\n",
    "trainFeatures, testFeatures, trainLabel, testLabel = train_test_split(features, label, test_size=0.2, shuffle=True)\n",
    "\n",
    "# Print all the above values\n",
    "print('Length of training dataset: ', len(trainFeatures))\n",
    "print('Length of testing dataset: ', len(testFeatures))"
   ]
  },
  {
   "cell_type": "code",
   "execution_count": 362,
   "metadata": {},
   "outputs": [
    {
     "name": "stdout",
     "output_type": "stream",
     "text": [
      "[10, 11, Decimal('12.45')] 1 1\n",
      "[50, 20, Decimal('20.00')] 0 0\n",
      "[237, 250, Decimal('30.00')] 1 1\n",
      "[15, 9, Decimal('10.00')] 1 1\n",
      "[86, 78, Decimal('25.00')] 1 1\n",
      "[110, 80, Decimal('25.00')] 1 0\n",
      "[40, 21, Decimal('13.45')] 0 0\n",
      "[500, 489, Decimal('35.00')] 1 1\n",
      "[50, 30, Decimal('30.00')] 0 0\n",
      "[7, 10, Decimal('5.00')] 1 0\n",
      "[49, 15, Decimal('1.00')] 0 0\n",
      "[100, 89, Decimal('25.00')] 1 1\n",
      "[30, 30, Decimal('40.00')] 0 1\n",
      "[85, 60, Decimal('35.00')] 0 0\n",
      "[51, 45, Decimal('24.42')] 1 1\n",
      "[54, 50, Decimal('10.00')] 1 1\n",
      "[45, 45, Decimal('30.00')] 1 1\n",
      "[21, 43, Decimal('15.89')] 0 0\n",
      "[5, 50, Decimal('1.00')] 0 0\n",
      "[23, 25, Decimal('20.00')] 1 1\n",
      "[5, 27, Decimal('13.00')] 0 0\n",
      "[34, 30, Decimal('10.00')] 1 1\n",
      "[100, 90, Decimal('20.00')] 1 1\n",
      "[345, 350, Decimal('40.00')] 1 0\n",
      "[45, 43, Decimal('33.00')] 1 1\n",
      "[20, 40, Decimal('10.00')] 0 0\n",
      "[30, 15, Decimal('10.00')] 0 1\n",
      "[30, 30, Decimal('70.00')] 0 0\n",
      "[38, 45, Decimal('20.00')] 1 1\n",
      "[5, 15, Decimal('20.00')] 0 1\n",
      "[80, 40, Decimal('10.00')] 0 0\n",
      "[100, 100, Decimal('30.00')] 1 1\n",
      "[25, 28, Decimal('18.00')] 1 1\n",
      "[50, 25, Decimal('20.00')] 0 0\n",
      "[17, 20, Decimal('25.00')] 1 1\n",
      "[590, 610, Decimal('35.00')] 1 0\n",
      "[75, 30, Decimal('1.00')] 0 0\n",
      "[600, 610, Decimal('35.00')] 1 0\n",
      "[120, 90, Decimal('25.00')] 0 0\n",
      "[835, 850, Decimal('40.00')] 1 0\n",
      "[80, 50, Decimal('2.00')] 0 0\n"
     ]
    }
   ],
   "source": [
    "# Import the classifier, in this case SVM\n",
    "from sklearn import svm\n",
    "\n",
    "# Create the classifier\n",
    "# SVM classifier has the parameters gamma, C, kernel\n",
    "# Kernel values can be linear, rbf\n",
    "# Linear will separate the using a line\n",
    "# rbf will separate using a curve\n",
    "clf = svm.SVC(kernel='rbf', gamma='scale')\n",
    "\n",
    "# Fit the dataset into the classifier using the fit() method.\n",
    "# It takes two parameters the features (X part) and its predictions (Y part)\n",
    "clf.fit(trainFeatures, trainLabel)\n",
    "\n",
    "# Test the classifier using predict() method\n",
    "# it takes a list of features as input and \n",
    "# produces a list of corresponding predictions\n",
    "pred = clf.predict(testFeatures)\n",
    "for i in range(len(testFeatures)):\n",
    "    print(testFeatures[i], testLabel[i], pred[i])"
   ]
  },
  {
   "cell_type": "code",
   "execution_count": 363,
   "metadata": {},
   "outputs": [
    {
     "name": "stdout",
     "output_type": "stream",
     "text": [
      "0.7804878048780488\n"
     ]
    }
   ],
   "source": [
    "# Get the score calculator for accuracy\n",
    "from sklearn.metrics import accuracy_score\n",
    "\n",
    "# accuracy_score() takes two parameters actual values of labels and the prediction\n",
    "# compares these two values and tells how many predictions are correct\n",
    "score = accuracy_score(testLabel, pred)\n",
    "print(score)"
   ]
  },
  {
   "cell_type": "code",
   "execution_count": 364,
   "metadata": {},
   "outputs": [],
   "source": [
    "from sklearn.naive_bayes import GaussianNB\n",
    "nbclf = GaussianNB()"
   ]
  },
  {
   "cell_type": "code",
   "execution_count": 365,
   "metadata": {},
   "outputs": [
    {
     "data": {
      "text/plain": [
       "GaussianNB(priors=None, var_smoothing=1e-09)"
      ]
     },
     "execution_count": 365,
     "metadata": {},
     "output_type": "execute_result"
    }
   ],
   "source": [
    " nbclf.fit(trainFeatures, trainLabel)"
   ]
  },
  {
   "cell_type": "code",
   "execution_count": 366,
   "metadata": {},
   "outputs": [
    {
     "name": "stdout",
     "output_type": "stream",
     "text": [
      "[10, 11, Decimal('12.45')] 1 1\n",
      "[50, 20, Decimal('20.00')] 0 1\n",
      "[237, 250, Decimal('30.00')] 1 0\n",
      "[15, 9, Decimal('10.00')] 1 1\n",
      "[86, 78, Decimal('25.00')] 1 1\n",
      "[110, 80, Decimal('25.00')] 1 1\n",
      "[40, 21, Decimal('13.45')] 0 1\n",
      "[500, 489, Decimal('35.00')] 1 0\n",
      "[50, 30, Decimal('30.00')] 0 1\n",
      "[7, 10, Decimal('5.00')] 1 1\n",
      "[49, 15, Decimal('1.00')] 0 0\n",
      "[100, 89, Decimal('25.00')] 1 1\n",
      "[30, 30, Decimal('40.00')] 0 0\n",
      "[85, 60, Decimal('35.00')] 0 1\n",
      "[51, 45, Decimal('24.42')] 1 1\n",
      "[54, 50, Decimal('10.00')] 1 1\n",
      "[45, 45, Decimal('30.00')] 1 1\n",
      "[21, 43, Decimal('15.89')] 0 1\n",
      "[5, 50, Decimal('1.00')] 0 0\n",
      "[23, 25, Decimal('20.00')] 1 1\n",
      "[5, 27, Decimal('13.00')] 0 1\n",
      "[34, 30, Decimal('10.00')] 1 1\n",
      "[100, 90, Decimal('20.00')] 1 1\n",
      "[345, 350, Decimal('40.00')] 1 0\n",
      "[45, 43, Decimal('33.00')] 1 1\n",
      "[20, 40, Decimal('10.00')] 0 1\n",
      "[30, 15, Decimal('10.00')] 0 1\n",
      "[30, 30, Decimal('70.00')] 0 0\n",
      "[38, 45, Decimal('20.00')] 1 1\n",
      "[5, 15, Decimal('20.00')] 0 1\n",
      "[80, 40, Decimal('10.00')] 0 1\n",
      "[100, 100, Decimal('30.00')] 1 1\n",
      "[25, 28, Decimal('18.00')] 1 1\n",
      "[50, 25, Decimal('20.00')] 0 1\n",
      "[17, 20, Decimal('25.00')] 1 1\n",
      "[590, 610, Decimal('35.00')] 1 0\n",
      "[75, 30, Decimal('1.00')] 0 0\n",
      "[600, 610, Decimal('35.00')] 1 0\n",
      "[120, 90, Decimal('25.00')] 0 1\n",
      "[835, 850, Decimal('40.00')] 1 0\n",
      "[80, 50, Decimal('2.00')] 0 0\n"
     ]
    }
   ],
   "source": [
    "nbpred = nbclf.predict(testFeatures)\n",
    "for i in range(len(testFeatures)):\n",
    "    print(testFeatures[i], testLabel[i], nbpred[i])"
   ]
  },
  {
   "cell_type": "code",
   "execution_count": 367,
   "metadata": {},
   "outputs": [
    {
     "name": "stdout",
     "output_type": "stream",
     "text": [
      "0.5609756097560976\n"
     ]
    }
   ],
   "source": [
    "nbscore = accuracy_score(testLabel, nbpred)\n",
    "print(nbscore)"
   ]
  },
  {
   "cell_type": "code",
   "execution_count": null,
   "metadata": {},
   "outputs": [],
   "source": []
  },
  {
   "cell_type": "code",
   "execution_count": null,
   "metadata": {},
   "outputs": [],
   "source": []
  }
 ],
 "metadata": {
  "kernelspec": {
   "display_name": "Python 3",
   "language": "python",
   "name": "python3"
  },
  "language_info": {
   "codemirror_mode": {
    "name": "ipython",
    "version": 3
   },
   "file_extension": ".py",
   "mimetype": "text/x-python",
   "name": "python",
   "nbconvert_exporter": "python",
   "pygments_lexer": "ipython3",
   "version": "3.7.1"
  }
 },
 "nbformat": 4,
 "nbformat_minor": 2
}
